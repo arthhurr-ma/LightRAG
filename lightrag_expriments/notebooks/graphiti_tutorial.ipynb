{
 "cells": [
  {
   "cell_type": "code",
   "execution_count": 1,
   "metadata": {},
   "outputs": [
    {
     "name": "stdout",
     "output_type": "stream",
     "text": [
      "Requirement already satisfied: graphiti-core in /Users/arthurj/.pyenv/versions/3.11.9/lib/python3.11/site-packages (0.3.21)\n",
      "Requirement already satisfied: langchain-openai in /Users/arthurj/.pyenv/versions/3.11.9/lib/python3.11/site-packages (0.2.8)\n",
      "Requirement already satisfied: langgraph in /Users/arthurj/.pyenv/versions/3.11.9/lib/python3.11/site-packages (0.2.46)\n",
      "Requirement already satisfied: ipywidgets in /Users/arthurj/.pyenv/versions/3.11.9/lib/python3.11/site-packages (8.1.5)\n",
      "Requirement already satisfied: diskcache<6.0.0,>=5.6.3 in /Users/arthurj/.pyenv/versions/3.11.9/lib/python3.11/site-packages (from graphiti-core) (5.6.3)\n",
      "Requirement already satisfied: neo4j<6.0.0,>=5.23.0 in /Users/arthurj/.pyenv/versions/3.11.9/lib/python3.11/site-packages (from graphiti-core) (5.26.0)\n",
      "Requirement already satisfied: numpy>=1.0.0 in /Users/arthurj/.pyenv/versions/3.11.9/lib/python3.11/site-packages (from graphiti-core) (2.0.2)\n",
      "Requirement already satisfied: openai<2.0.0,>=1.53.0 in /Users/arthurj/.pyenv/versions/3.11.9/lib/python3.11/site-packages (from graphiti-core) (1.54.4)\n",
      "Requirement already satisfied: pydantic<3.0.0,>=2.8.2 in /Users/arthurj/.pyenv/versions/3.11.9/lib/python3.11/site-packages (from graphiti-core) (2.9.2)\n",
      "Requirement already satisfied: tenacity<9.0.0 in /Users/arthurj/.pyenv/versions/3.11.9/lib/python3.11/site-packages (from graphiti-core) (8.5.0)\n",
      "Requirement already satisfied: langchain-core<0.4.0,>=0.3.17 in /Users/arthurj/.pyenv/versions/3.11.9/lib/python3.11/site-packages (from langchain-openai) (0.3.18)\n",
      "Requirement already satisfied: tiktoken<1,>=0.7 in /Users/arthurj/.pyenv/versions/3.11.9/lib/python3.11/site-packages (from langchain-openai) (0.8.0)\n",
      "Requirement already satisfied: langgraph-checkpoint<3.0.0,>=2.0.0 in /Users/arthurj/.pyenv/versions/3.11.9/lib/python3.11/site-packages (from langgraph) (2.0.3)\n",
      "Requirement already satisfied: langgraph-sdk<0.2.0,>=0.1.32 in /Users/arthurj/.pyenv/versions/3.11.9/lib/python3.11/site-packages (from langgraph) (0.1.35)\n",
      "Requirement already satisfied: comm>=0.1.3 in /Users/arthurj/.pyenv/versions/3.11.9/lib/python3.11/site-packages (from ipywidgets) (0.2.2)\n",
      "Requirement already satisfied: ipython>=6.1.0 in /Users/arthurj/.pyenv/versions/3.11.9/lib/python3.11/site-packages (from ipywidgets) (8.27.0)\n",
      "Requirement already satisfied: traitlets>=4.3.1 in /Users/arthurj/.pyenv/versions/3.11.9/lib/python3.11/site-packages (from ipywidgets) (5.14.3)\n",
      "Requirement already satisfied: widgetsnbextension~=4.0.12 in /Users/arthurj/.pyenv/versions/3.11.9/lib/python3.11/site-packages (from ipywidgets) (4.0.13)\n",
      "Requirement already satisfied: jupyterlab-widgets~=3.0.12 in /Users/arthurj/.pyenv/versions/3.11.9/lib/python3.11/site-packages (from ipywidgets) (3.0.13)\n",
      "Requirement already satisfied: decorator in /Users/arthurj/.pyenv/versions/3.11.9/lib/python3.11/site-packages (from ipython>=6.1.0->ipywidgets) (5.1.1)\n",
      "Requirement already satisfied: jedi>=0.16 in /Users/arthurj/.pyenv/versions/3.11.9/lib/python3.11/site-packages (from ipython>=6.1.0->ipywidgets) (0.19.1)\n",
      "Requirement already satisfied: matplotlib-inline in /Users/arthurj/.pyenv/versions/3.11.9/lib/python3.11/site-packages (from ipython>=6.1.0->ipywidgets) (0.1.7)\n",
      "Requirement already satisfied: prompt-toolkit<3.1.0,>=3.0.41 in /Users/arthurj/.pyenv/versions/3.11.9/lib/python3.11/site-packages (from ipython>=6.1.0->ipywidgets) (3.0.48)\n",
      "Requirement already satisfied: pygments>=2.4.0 in /Users/arthurj/.pyenv/versions/3.11.9/lib/python3.11/site-packages (from ipython>=6.1.0->ipywidgets) (2.18.0)\n",
      "Requirement already satisfied: stack-data in /Users/arthurj/.pyenv/versions/3.11.9/lib/python3.11/site-packages (from ipython>=6.1.0->ipywidgets) (0.6.3)\n",
      "Requirement already satisfied: typing-extensions>=4.6 in /Users/arthurj/.pyenv/versions/3.11.9/lib/python3.11/site-packages (from ipython>=6.1.0->ipywidgets) (4.12.2)\n",
      "Requirement already satisfied: pexpect>4.3 in /Users/arthurj/.pyenv/versions/3.11.9/lib/python3.11/site-packages (from ipython>=6.1.0->ipywidgets) (4.9.0)\n",
      "Requirement already satisfied: PyYAML>=5.3 in /Users/arthurj/.pyenv/versions/3.11.9/lib/python3.11/site-packages (from langchain-core<0.4.0,>=0.3.17->langchain-openai) (6.0.2)\n",
      "Requirement already satisfied: jsonpatch<2.0,>=1.33 in /Users/arthurj/.pyenv/versions/3.11.9/lib/python3.11/site-packages (from langchain-core<0.4.0,>=0.3.17->langchain-openai) (1.33)\n",
      "Requirement already satisfied: langsmith<0.2.0,>=0.1.125 in /Users/arthurj/.pyenv/versions/3.11.9/lib/python3.11/site-packages (from langchain-core<0.4.0,>=0.3.17->langchain-openai) (0.1.143)\n",
      "Requirement already satisfied: packaging<25,>=23.2 in /Users/arthurj/.pyenv/versions/3.11.9/lib/python3.11/site-packages (from langchain-core<0.4.0,>=0.3.17->langchain-openai) (24.1)\n",
      "Requirement already satisfied: msgpack<2.0.0,>=1.1.0 in /Users/arthurj/.pyenv/versions/3.11.9/lib/python3.11/site-packages (from langgraph-checkpoint<3.0.0,>=2.0.0->langgraph) (1.1.0)\n",
      "Requirement already satisfied: httpx>=0.25.2 in /Users/arthurj/.pyenv/versions/3.11.9/lib/python3.11/site-packages (from langgraph-sdk<0.2.0,>=0.1.32->langgraph) (0.27.2)\n",
      "Requirement already satisfied: httpx-sse>=0.4.0 in /Users/arthurj/.pyenv/versions/3.11.9/lib/python3.11/site-packages (from langgraph-sdk<0.2.0,>=0.1.32->langgraph) (0.4.0)\n",
      "Requirement already satisfied: orjson>=3.10.1 in /Users/arthurj/.pyenv/versions/3.11.9/lib/python3.11/site-packages (from langgraph-sdk<0.2.0,>=0.1.32->langgraph) (3.10.11)\n",
      "Requirement already satisfied: pytz in /Users/arthurj/.pyenv/versions/3.11.9/lib/python3.11/site-packages (from neo4j<6.0.0,>=5.23.0->graphiti-core) (2024.2)\n",
      "Requirement already satisfied: anyio<5,>=3.5.0 in /Users/arthurj/.pyenv/versions/3.11.9/lib/python3.11/site-packages (from openai<2.0.0,>=1.53.0->graphiti-core) (4.6.0)\n",
      "Requirement already satisfied: distro<2,>=1.7.0 in /Users/arthurj/.pyenv/versions/3.11.9/lib/python3.11/site-packages (from openai<2.0.0,>=1.53.0->graphiti-core) (1.9.0)\n",
      "Requirement already satisfied: jiter<1,>=0.4.0 in /Users/arthurj/.pyenv/versions/3.11.9/lib/python3.11/site-packages (from openai<2.0.0,>=1.53.0->graphiti-core) (0.5.0)\n",
      "Requirement already satisfied: sniffio in /Users/arthurj/.pyenv/versions/3.11.9/lib/python3.11/site-packages (from openai<2.0.0,>=1.53.0->graphiti-core) (1.3.1)\n",
      "Requirement already satisfied: tqdm>4 in /Users/arthurj/.pyenv/versions/3.11.9/lib/python3.11/site-packages (from openai<2.0.0,>=1.53.0->graphiti-core) (4.66.5)\n",
      "Requirement already satisfied: annotated-types>=0.6.0 in /Users/arthurj/.pyenv/versions/3.11.9/lib/python3.11/site-packages (from pydantic<3.0.0,>=2.8.2->graphiti-core) (0.7.0)\n",
      "Requirement already satisfied: pydantic-core==2.23.4 in /Users/arthurj/.pyenv/versions/3.11.9/lib/python3.11/site-packages (from pydantic<3.0.0,>=2.8.2->graphiti-core) (2.23.4)\n",
      "Requirement already satisfied: regex>=2022.1.18 in /Users/arthurj/.pyenv/versions/3.11.9/lib/python3.11/site-packages (from tiktoken<1,>=0.7->langchain-openai) (2024.9.11)\n",
      "Requirement already satisfied: requests>=2.26.0 in /Users/arthurj/.pyenv/versions/3.11.9/lib/python3.11/site-packages (from tiktoken<1,>=0.7->langchain-openai) (2.32.3)\n",
      "Requirement already satisfied: idna>=2.8 in /Users/arthurj/.pyenv/versions/3.11.9/lib/python3.11/site-packages (from anyio<5,>=3.5.0->openai<2.0.0,>=1.53.0->graphiti-core) (3.10)\n",
      "Requirement already satisfied: certifi in /Users/arthurj/.pyenv/versions/3.11.9/lib/python3.11/site-packages (from httpx>=0.25.2->langgraph-sdk<0.2.0,>=0.1.32->langgraph) (2024.8.30)\n",
      "Requirement already satisfied: httpcore==1.* in /Users/arthurj/.pyenv/versions/3.11.9/lib/python3.11/site-packages (from httpx>=0.25.2->langgraph-sdk<0.2.0,>=0.1.32->langgraph) (1.0.5)\n",
      "Requirement already satisfied: h11<0.15,>=0.13 in /Users/arthurj/.pyenv/versions/3.11.9/lib/python3.11/site-packages (from httpcore==1.*->httpx>=0.25.2->langgraph-sdk<0.2.0,>=0.1.32->langgraph) (0.14.0)\n",
      "Requirement already satisfied: parso<0.9.0,>=0.8.3 in /Users/arthurj/.pyenv/versions/3.11.9/lib/python3.11/site-packages (from jedi>=0.16->ipython>=6.1.0->ipywidgets) (0.8.4)\n",
      "Requirement already satisfied: jsonpointer>=1.9 in /Users/arthurj/.pyenv/versions/3.11.9/lib/python3.11/site-packages (from jsonpatch<2.0,>=1.33->langchain-core<0.4.0,>=0.3.17->langchain-openai) (3.0.0)\n",
      "Requirement already satisfied: requests-toolbelt<2.0.0,>=1.0.0 in /Users/arthurj/.pyenv/versions/3.11.9/lib/python3.11/site-packages (from langsmith<0.2.0,>=0.1.125->langchain-core<0.4.0,>=0.3.17->langchain-openai) (1.0.0)\n",
      "Requirement already satisfied: ptyprocess>=0.5 in /Users/arthurj/.pyenv/versions/3.11.9/lib/python3.11/site-packages (from pexpect>4.3->ipython>=6.1.0->ipywidgets) (0.7.0)\n",
      "Requirement already satisfied: wcwidth in /Users/arthurj/.pyenv/versions/3.11.9/lib/python3.11/site-packages (from prompt-toolkit<3.1.0,>=3.0.41->ipython>=6.1.0->ipywidgets) (0.2.13)\n",
      "Requirement already satisfied: charset-normalizer<4,>=2 in /Users/arthurj/.pyenv/versions/3.11.9/lib/python3.11/site-packages (from requests>=2.26.0->tiktoken<1,>=0.7->langchain-openai) (3.3.2)\n",
      "Requirement already satisfied: urllib3<3,>=1.21.1 in /Users/arthurj/.pyenv/versions/3.11.9/lib/python3.11/site-packages (from requests>=2.26.0->tiktoken<1,>=0.7->langchain-openai) (2.2.3)\n",
      "Requirement already satisfied: executing>=1.2.0 in /Users/arthurj/.pyenv/versions/3.11.9/lib/python3.11/site-packages (from stack-data->ipython>=6.1.0->ipywidgets) (2.1.0)\n",
      "Requirement already satisfied: asttokens>=2.1.0 in /Users/arthurj/.pyenv/versions/3.11.9/lib/python3.11/site-packages (from stack-data->ipython>=6.1.0->ipywidgets) (2.4.1)\n",
      "Requirement already satisfied: pure-eval in /Users/arthurj/.pyenv/versions/3.11.9/lib/python3.11/site-packages (from stack-data->ipython>=6.1.0->ipywidgets) (0.2.3)\n",
      "Requirement already satisfied: six>=1.12.0 in /Users/arthurj/.pyenv/versions/3.11.9/lib/python3.11/site-packages (from asttokens>=2.1.0->stack-data->ipython>=6.1.0->ipywidgets) (1.16.0)\n",
      "\n",
      "\u001b[1m[\u001b[0m\u001b[34;49mnotice\u001b[0m\u001b[1;39;49m]\u001b[0m\u001b[39;49m A new release of pip is available: \u001b[0m\u001b[31;49m24.2\u001b[0m\u001b[39;49m -> \u001b[0m\u001b[32;49m24.3.1\u001b[0m\n",
      "\u001b[1m[\u001b[0m\u001b[34;49mnotice\u001b[0m\u001b[1;39;49m]\u001b[0m\u001b[39;49m To update, run: \u001b[0m\u001b[32;49mpip install --upgrade pip\u001b[0m\n",
      "Note: you may need to restart the kernel to use updated packages.\n"
     ]
    }
   ],
   "source": [
    "%pip install graphiti-core langchain-openai langgraph ipywidgets"
   ]
  },
  {
   "cell_type": "code",
   "execution_count": 2,
   "metadata": {},
   "outputs": [],
   "source": [
    "import asyncio\n",
    "import json\n",
    "import logging\n",
    "import os\n",
    "import sys\n",
    "import uuid\n",
    "from contextlib import suppress\n",
    "from datetime import datetime\n",
    "from pathlib import Path\n",
    "from typing import Annotated\n",
    "\n",
    "import ipywidgets as widgets\n",
    "from dotenv import load_dotenv, find_dotenv\n",
    "from IPython.display import Image, display\n",
    "from typing_extensions import TypedDict\n",
    "\n",
    "from graphiti_core import Graphiti\n",
    "from graphiti_core.edges import EntityEdge\n",
    "from graphiti_core.nodes import EpisodeType\n",
    "from graphiti_core.utils.bulk_utils import RawEpisode\n",
    "from graphiti_core.utils.maintenance.graph_data_operations import clear_data"
   ]
  },
  {
   "cell_type": "code",
   "execution_count": 3,
   "metadata": {},
   "outputs": [
    {
     "data": {
      "text/plain": [
       "True"
      ]
     },
     "execution_count": 3,
     "metadata": {},
     "output_type": "execute_result"
    }
   ],
   "source": [
    "\n",
    "dotenv_path = '/Users/arthurj/copilot/.env'\n",
    "load_dotenv(dotenv_path)"
   ]
  },
  {
   "cell_type": "code",
   "execution_count": 4,
   "metadata": {},
   "outputs": [],
   "source": [
    "\n",
    "neo4j_uri = os.getenv('NEO4J_URI', 'bolt://localhost:7687')\n",
    "neo4j_user = os.getenv('NEO4J_USER', 'neo4j')\n",
    "neo4j_password = os.getenv('NEO4J_PASSWORD', 'Y8cL8y5p')\n",
    "neo4j_database = os.getenv('NEO4J_DATABASE', 'test')\n",
    "\n",
    "client = Graphiti(\n",
    "    neo4j_uri,\n",
    "    neo4j_user,\n",
    "    neo4j_password,\n",
    "   #neo4j_database\n",
    ")"
   ]
  },
  {
   "cell_type": "code",
   "execution_count": 5,
   "metadata": {},
   "outputs": [],
   "source": [
    "await clear_data(client.driver)\n",
    "await client.build_indices_and_constraints()"
   ]
  },
  {
   "cell_type": "code",
   "execution_count": 6,
   "metadata": {},
   "outputs": [],
   "source": [
    "async def ingest_sales_data(client: Graphiti):\n",
    "    json_file_path = '/Users/arthurj/Downloads/manybirds_products.json'\n",
    "\n",
    "    with open(json_file_path) as file:\n",
    "        products = json.load(file)['products']\n",
    "    episodes: list[RawEpisode] = [\n",
    "        RawEpisode(\n",
    "            name=product.get('title', f'Product {i}'),\n",
    "            content=str({k: v for k, v in product.items() if k != 'images'}),\n",
    "            source_description='ManyBirds products',\n",
    "            source=EpisodeType.json,\n",
    "            reference_time=datetime.now(),\n",
    "        )\n",
    "        for i, product in enumerate(products)\n",
    "    ]\n",
    "    await client.add_episode_bulk(episodes)\n",
    "    \n",
    "await ingest_sales_data(client)"
   ]
  },
  {
   "cell_type": "code",
   "execution_count": 7,
   "metadata": {},
   "outputs": [],
   "source": [
    "user_name = 'jess'\n",
    "\n",
    "await client.add_episode(\n",
    "    name='User Creation',\n",
    "    episode_body=(f'{user_name} is interested in buying a pair of shoes'),\n",
    "    source=EpisodeType.text,\n",
    "    reference_time=datetime.now(),\n",
    "    source_description='SalesBot',\n",
    ")\n",
    "\n",
    "# let's get Jess's node uuid\n",
    "nl = await client.get_nodes_by_query(user_name)\n",
    "\n",
    "user_node_uuid = nl[0].uuid\n",
    "\n",
    "# and the ManyBirds node uuid\n",
    "nl = await client.get_nodes_by_query('ManyBirds')\n",
    "manybirds_node_uuid = nl[0].uuid"
   ]
  },
  {
   "cell_type": "code",
   "execution_count": 8,
   "metadata": {},
   "outputs": [],
   "source": [
    "def edges_to_facts_string(entities: list[EntityEdge]):\n",
    "    return '-' + '\\n- '.join([edge.fact for edge in entities])"
   ]
  },
  {
   "cell_type": "code",
   "execution_count": 9,
   "metadata": {},
   "outputs": [],
   "source": [
    "from langchain_core.messages import AIMessage, SystemMessage\n",
    "from langchain_core.tools import tool\n",
    "from langchain_openai import ChatOpenAI\n",
    "from langgraph.checkpoint.memory import MemorySaver\n",
    "from langgraph.graph import END, START, StateGraph, add_messages\n",
    "from langgraph.prebuilt import ToolNode"
   ]
  },
  {
   "cell_type": "code",
   "execution_count": 10,
   "metadata": {},
   "outputs": [],
   "source": [
    "@tool\n",
    "async def get_shoe_data(query: str) -> str:\n",
    "    \"\"\"Search the graphiti graph for information about shoes\"\"\"\n",
    "    edge_results = await client.search(\n",
    "        query,\n",
    "        center_node_uuid=manybirds_node_uuid,\n",
    "        num_results=10,\n",
    "    )\n",
    "    return edges_to_facts_string(edge_results)\n",
    "\n",
    "\n",
    "tools = [get_shoe_data]\n",
    "tool_node = ToolNode(tools)"
   ]
  },
  {
   "cell_type": "code",
   "execution_count": 11,
   "metadata": {},
   "outputs": [],
   "source": [
    "llm = ChatOpenAI(model='gpt-4o-mini', temperature=0).bind_tools(tools)"
   ]
  },
  {
   "cell_type": "code",
   "execution_count": 12,
   "metadata": {},
   "outputs": [
    {
     "data": {
      "text/plain": [
       "{'messages': [ToolMessage(content=\"-Manybirds produces the Men's Couriers - Natural Black/Basin Blue (Blizzard Sole) shoes.\\n- Manybirds produces the TinyBirds Wool Runners - Little Kids - Natural Black (Blizzard Sole).\\n- Manybirds produces the Men's SuperLight Wool Runners - Dark Grey (Medium Grey Sole).\\n- The TinyBirds Wool Runners - Little Kids - Natural Black (Blizzard Sole) belong to the Shoes category.\\n- The Men's SuperLight Wool Runners - Dark Grey (Medium Grey Sole) are made of wool.\\n- The Men's SuperLight Wool Runners - Dark Grey (Medium Grey Sole) belong to the Shoes category.\\n- The Men's SuperLight Wool Runners - Dark Grey (Medium Grey Sole) are available in various sizes.\\n- The design style of the Men's SuperLight Wool Runners - Dark Grey (Medium Grey Sole) is runner.\\n- The Men's SuperLight Wool Runners - Dark Grey (Medium Grey Sole) target the mens gender.\\n- The TinyBirds Wool Runners - Little Kids - Natural Black (Blizzard Sole) have a size variant of 8T.\", name='get_shoe_data', tool_call_id='call_yr9yjmp3Yi55gW54tbuHgzZc')]}"
      ]
     },
     "execution_count": 12,
     "metadata": {},
     "output_type": "execute_result"
    }
   ],
   "source": [
    "await tool_node.ainvoke({'messages': [await llm.ainvoke('wool shoes')]})"
   ]
  },
  {
   "cell_type": "code",
   "execution_count": 13,
   "metadata": {},
   "outputs": [],
   "source": [
    "class State(TypedDict):\n",
    "    messages: Annotated[list, add_messages]\n",
    "    user_name: str\n",
    "    user_node_uuid: str\n",
    "\n",
    "\n",
    "async def chatbot(state: State):\n",
    "    facts_string = None\n",
    "    if len(state['messages']) > 0:\n",
    "        last_message = state['messages'][-1]\n",
    "        graphiti_query = f'{\"SalesBot\" if isinstance(last_message, AIMessage) else state[\"user_name\"]}: {last_message.content}'\n",
    "        # search graphiti using Jess's node uuid as the center node\n",
    "        # graph edges (facts) further from the Jess node will be ranked lower\n",
    "        edge_results = await client.search(\n",
    "            graphiti_query, center_node_uuid=state['user_node_uuid'], num_results=5\n",
    "        )\n",
    "        facts_string = edges_to_facts_string(edge_results)\n",
    "\n",
    "    system_message = SystemMessage(\n",
    "        content=f\"\"\"You are a skillfull shoe salesperson working for ManyBirds. Review information about the user and their prior conversation below and respond accordingly.\n",
    "        Keep responses short and concise. And remember, always be selling (and helpful!)\n",
    "\n",
    "        Things you'll need to know about the user in order to close a sale:\n",
    "        - the user's shoe size\n",
    "        - any other shoe needs? maybe for wide feet?\n",
    "        - the user's preferred colors and styles\n",
    "        - their budget\n",
    "\n",
    "        Ensure that you ask the user for the above if you don't already know.\n",
    "\n",
    "        Facts about the user and their conversation:\n",
    "        {facts_string or 'No facts about the user and their conversation'}\"\"\"\n",
    "    )\n",
    "\n",
    "    messages = [system_message] + state['messages']\n",
    "\n",
    "    response = await llm.ainvoke(messages)\n",
    "\n",
    "    # add the response to the graphiti graph.\n",
    "    # this will allow us to use the graphiti search later in the conversation\n",
    "    # we're doing async here to avoid blocking the graph execution\n",
    "    asyncio.create_task(\n",
    "        client.add_episode(\n",
    "            name='Chatbot Response',\n",
    "            episode_body=f\"{state['user_name']}: {state['messages'][-1]}\\nSalesBot: {response.content}\",\n",
    "            source=EpisodeType.message,\n",
    "            reference_time=datetime.now(),\n",
    "            source_description='Chatbot',\n",
    "        )\n",
    "    )\n",
    "\n",
    "    return {'messages': [response]}"
   ]
  },
  {
   "cell_type": "code",
   "execution_count": 14,
   "metadata": {},
   "outputs": [],
   "source": [
    "graph_builder = StateGraph(State)\n",
    "\n",
    "memory = MemorySaver()\n",
    "\n",
    "\n",
    "# Define the function that determines whether to continue or not\n",
    "async def should_continue(state, config):\n",
    "    messages = state['messages']\n",
    "    last_message = messages[-1]\n",
    "    # If there is no function call, then we finish\n",
    "    if not last_message.tool_calls:\n",
    "        return 'end'\n",
    "    # Otherwise if there is, we continue\n",
    "    else:\n",
    "        return 'continue'\n",
    "\n",
    "\n",
    "graph_builder.add_node('agent', chatbot)\n",
    "graph_builder.add_node('tools', tool_node)\n",
    "\n",
    "graph_builder.add_edge(START, 'agent')\n",
    "graph_builder.add_conditional_edges('agent', should_continue, {'continue': 'tools', 'end': END})\n",
    "graph_builder.add_edge('tools', 'agent')\n",
    "\n",
    "\n",
    "graph = graph_builder.compile(checkpointer=memory)"
   ]
  },
  {
   "cell_type": "code",
   "execution_count": 15,
   "metadata": {},
   "outputs": [
    {
     "data": {
      "image/png": "[encoded data removed]",
      "text/plain": [
       "<IPython.core.display.Image object>"
      ]
     },
     "metadata": {},
     "output_type": "display_data"
    }
   ],
   "source": [
    "from IPython.display import display, Image\n",
    "from contextlib import suppress\n",
    "\n",
    "\n",
    "with suppress(Exception):\n",
    "    image_data = graph.get_graph().draw_mermaid_png()\n",
    "    display(Image(data=image_data)) \n"
   ]
  },
  {
   "cell_type": "code",
   "execution_count": 16,
   "metadata": {},
   "outputs": [
    {
     "data": {
      "text/plain": [
       "{'messages': [HumanMessage(content='What sizes do the TinyBirds Wool Runners in Natural Black come in?', additional_kwargs={}, response_metadata={}, id='ea21fc02-aeeb-4c20-966d-65a4bc97f6ab'),\n",
       "  AIMessage(content='The TinyBirds Wool Runners - Little Kids in Natural Black (Blizzard Sole) are available in size variants of 10T and 6T. Would you like to know more about these sizes or perhaps check out other options?', additional_kwargs={'refusal': None}, response_metadata={'token_usage': {'completion_tokens': 49, 'prompt_tokens': 311, 'total_tokens': 360, 'completion_tokens_details': {'accepted_prediction_tokens': 0, 'audio_tokens': 0, 'reasoning_tokens': 0, 'rejected_prediction_tokens': 0}, 'prompt_tokens_details': {'audio_tokens': 0, 'cached_tokens': 0}}, 'model_name': 'gpt-4o-mini-2024-07-18', 'system_fingerprint': 'fp_0ba0d124f1', 'finish_reason': 'stop', 'logprobs': None}, id='run-c05ddad9-7ba7-4f9b-b4e3-9d7ddb7dd268-0', usage_metadata={'input_tokens': 311, 'output_tokens': 49, 'total_tokens': 360, 'input_token_details': {'audio': 0, 'cache_read': 0}, 'output_token_details': {'audio': 0, 'reasoning': 0}})],\n",
       " 'user_name': 'jess',\n",
       " 'user_node_uuid': 'e8305719-730f-4b05-b944-144d2e3be5a8'}"
      ]
     },
     "execution_count": 16,
     "metadata": {},
     "output_type": "execute_result"
    }
   ],
   "source": [
    "await graph.ainvoke(\n",
    "    {\n",
    "        'messages': [\n",
    "            {\n",
    "                'role': 'user',\n",
    "                'content': 'What sizes do the TinyBirds Wool Runners in Natural Black come in?',\n",
    "            }\n",
    "        ],\n",
    "        'user_name': user_name,\n",
    "        'user_node_uuid': user_node_uuid,\n",
    "    },\n",
    "    config={'configurable': {'thread_id': uuid.uuid4().hex}},\n",
    ")"
   ]
  },
  {
   "cell_type": "code",
   "execution_count": null,
   "metadata": {},
   "outputs": [],
   "source": []
  }
 ],
 "metadata": {
  "kernelspec": {
   "display_name": "3.11.9",
   "language": "python",
   "name": "python3"
  },
  "language_info": {
   "codemirror_mode": {
    "name": "ipython",
    "version": 3
   },
   "file_extension": ".py",
   "mimetype": "text/x-python",
   "name": "python",
   "nbconvert_exporter": "python",
   "pygments_lexer": "ipython3",
   "version": "3.11.9"
  }
 },
 "nbformat": 4,
 "nbformat_minor": 2
}
